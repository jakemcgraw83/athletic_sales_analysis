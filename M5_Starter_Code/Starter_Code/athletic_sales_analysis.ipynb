{
 "cells": [
  {
   "cell_type": "code",
   "execution_count": 45,
   "metadata": {},
   "outputs": [],
   "source": [
    "# Import Libraries and Dependencies\n",
    "import pandas as pd\n",
    "from datetime import datetime\n"
   ]
  },
  {
   "cell_type": "markdown",
   "metadata": {},
   "source": [
    "### 1. Combine and Clean the Data\n",
    "#### Import CSVs"
   ]
  },
  {
   "cell_type": "code",
   "execution_count": 46,
   "metadata": {},
   "outputs": [],
   "source": [
    "# Read the CSV files into DataFrames.\n",
    "df = pd.read_csv(r\"C:\\Users\\jakem\\athletic_sales_analysis\\M5_Starter_Code\\Starter_Code\\Resources\\athletic_sales_2020.csv\")\n",
    "df1 = pd.read_csv(r\"C:\\Users\\jakem\\athletic_sales_analysis\\M5_Starter_Code\\Starter_Code\\Resources\\athletic_sales_2021.csv\")"
   ]
  },
  {
   "cell_type": "code",
   "execution_count": 47,
   "metadata": {},
   "outputs": [
    {
     "data": {
      "text/html": [
       "<div>\n",
       "<style scoped>\n",
       "    .dataframe tbody tr th:only-of-type {\n",
       "        vertical-align: middle;\n",
       "    }\n",
       "\n",
       "    .dataframe tbody tr th {\n",
       "        vertical-align: top;\n",
       "    }\n",
       "\n",
       "    .dataframe thead th {\n",
       "        text-align: right;\n",
       "    }\n",
       "</style>\n",
       "<table border=\"1\" class=\"dataframe\">\n",
       "  <thead>\n",
       "    <tr style=\"text-align: right;\">\n",
       "      <th></th>\n",
       "      <th>retailer</th>\n",
       "      <th>retailer_id</th>\n",
       "      <th>invoice_date</th>\n",
       "      <th>region</th>\n",
       "      <th>state</th>\n",
       "      <th>city</th>\n",
       "      <th>product</th>\n",
       "      <th>price_per_unit</th>\n",
       "      <th>units_sold</th>\n",
       "      <th>total_sales</th>\n",
       "      <th>operating_profit</th>\n",
       "      <th>sales_method</th>\n",
       "    </tr>\n",
       "  </thead>\n",
       "  <tbody>\n",
       "    <tr>\n",
       "      <th>0</th>\n",
       "      <td>Foot Locker</td>\n",
       "      <td>1185732</td>\n",
       "      <td>1/1/20</td>\n",
       "      <td>Northeast</td>\n",
       "      <td>New York</td>\n",
       "      <td>New York</td>\n",
       "      <td>Men's Street Footwear</td>\n",
       "      <td>50</td>\n",
       "      <td>1200</td>\n",
       "      <td>600000</td>\n",
       "      <td>300000.00</td>\n",
       "      <td>In-store</td>\n",
       "    </tr>\n",
       "    <tr>\n",
       "      <th>1</th>\n",
       "      <td>Foot Locker</td>\n",
       "      <td>1185732</td>\n",
       "      <td>1/1/20</td>\n",
       "      <td>Northeast</td>\n",
       "      <td>Pennsylvania</td>\n",
       "      <td>Philadelphia</td>\n",
       "      <td>Women's Apparel</td>\n",
       "      <td>68</td>\n",
       "      <td>83</td>\n",
       "      <td>5644</td>\n",
       "      <td>2426.92</td>\n",
       "      <td>Online</td>\n",
       "    </tr>\n",
       "    <tr>\n",
       "      <th>2</th>\n",
       "      <td>Foot Locker</td>\n",
       "      <td>1185732</td>\n",
       "      <td>1/1/20</td>\n",
       "      <td>Northeast</td>\n",
       "      <td>Pennsylvania</td>\n",
       "      <td>Philadelphia</td>\n",
       "      <td>Women's Apparel</td>\n",
       "      <td>75</td>\n",
       "      <td>275</td>\n",
       "      <td>206250</td>\n",
       "      <td>61875.00</td>\n",
       "      <td>Outlet</td>\n",
       "    </tr>\n",
       "    <tr>\n",
       "      <th>3</th>\n",
       "      <td>Foot Locker</td>\n",
       "      <td>1185732</td>\n",
       "      <td>1/1/20</td>\n",
       "      <td>Northeast</td>\n",
       "      <td>New York</td>\n",
       "      <td>New York</td>\n",
       "      <td>Men's Street Footwear</td>\n",
       "      <td>34</td>\n",
       "      <td>384</td>\n",
       "      <td>13056</td>\n",
       "      <td>6789.12</td>\n",
       "      <td>Outlet</td>\n",
       "    </tr>\n",
       "    <tr>\n",
       "      <th>4</th>\n",
       "      <td>Foot Locker</td>\n",
       "      <td>1185732</td>\n",
       "      <td>1/1/20</td>\n",
       "      <td>Northeast</td>\n",
       "      <td>Pennsylvania</td>\n",
       "      <td>Philadelphia</td>\n",
       "      <td>Women's Apparel</td>\n",
       "      <td>53</td>\n",
       "      <td>83</td>\n",
       "      <td>4399</td>\n",
       "      <td>1407.68</td>\n",
       "      <td>Outlet</td>\n",
       "    </tr>\n",
       "  </tbody>\n",
       "</table>\n",
       "</div>"
      ],
      "text/plain": [
       "      retailer  retailer_id invoice_date     region         state  \\\n",
       "0  Foot Locker      1185732       1/1/20  Northeast      New York   \n",
       "1  Foot Locker      1185732       1/1/20  Northeast  Pennsylvania   \n",
       "2  Foot Locker      1185732       1/1/20  Northeast  Pennsylvania   \n",
       "3  Foot Locker      1185732       1/1/20  Northeast      New York   \n",
       "4  Foot Locker      1185732       1/1/20  Northeast  Pennsylvania   \n",
       "\n",
       "           city                product  price_per_unit  units_sold  \\\n",
       "0      New York  Men's Street Footwear              50        1200   \n",
       "1  Philadelphia        Women's Apparel              68          83   \n",
       "2  Philadelphia        Women's Apparel              75         275   \n",
       "3      New York  Men's Street Footwear              34         384   \n",
       "4  Philadelphia        Women's Apparel              53          83   \n",
       "\n",
       "   total_sales  operating_profit sales_method  \n",
       "0       600000         300000.00     In-store  \n",
       "1         5644           2426.92       Online  \n",
       "2       206250          61875.00       Outlet  \n",
       "3        13056           6789.12       Outlet  \n",
       "4         4399           1407.68       Outlet  "
      ]
     },
     "execution_count": 47,
     "metadata": {},
     "output_type": "execute_result"
    }
   ],
   "source": [
    "# Display the 2020 sales DataFrame\n",
    "df.head()"
   ]
  },
  {
   "cell_type": "code",
   "execution_count": 48,
   "metadata": {},
   "outputs": [
    {
     "data": {
      "text/html": [
       "<div>\n",
       "<style scoped>\n",
       "    .dataframe tbody tr th:only-of-type {\n",
       "        vertical-align: middle;\n",
       "    }\n",
       "\n",
       "    .dataframe tbody tr th {\n",
       "        vertical-align: top;\n",
       "    }\n",
       "\n",
       "    .dataframe thead th {\n",
       "        text-align: right;\n",
       "    }\n",
       "</style>\n",
       "<table border=\"1\" class=\"dataframe\">\n",
       "  <thead>\n",
       "    <tr style=\"text-align: right;\">\n",
       "      <th></th>\n",
       "      <th>retailer</th>\n",
       "      <th>retailer_id</th>\n",
       "      <th>invoice_date</th>\n",
       "      <th>region</th>\n",
       "      <th>state</th>\n",
       "      <th>city</th>\n",
       "      <th>product</th>\n",
       "      <th>price_per_unit</th>\n",
       "      <th>units_sold</th>\n",
       "      <th>total_sales</th>\n",
       "      <th>operating_profit</th>\n",
       "      <th>sales_method</th>\n",
       "    </tr>\n",
       "  </thead>\n",
       "  <tbody>\n",
       "    <tr>\n",
       "      <th>0</th>\n",
       "      <td>West Gear</td>\n",
       "      <td>1128299</td>\n",
       "      <td>1/1/21</td>\n",
       "      <td>West</td>\n",
       "      <td>California</td>\n",
       "      <td>San Francisco</td>\n",
       "      <td>Men's Athletic Footwear</td>\n",
       "      <td>65</td>\n",
       "      <td>750</td>\n",
       "      <td>487500</td>\n",
       "      <td>121875.00</td>\n",
       "      <td>Outlet</td>\n",
       "    </tr>\n",
       "    <tr>\n",
       "      <th>1</th>\n",
       "      <td>West Gear</td>\n",
       "      <td>1128299</td>\n",
       "      <td>1/1/21</td>\n",
       "      <td>West</td>\n",
       "      <td>California</td>\n",
       "      <td>San Francisco</td>\n",
       "      <td>Men's Athletic Footwear</td>\n",
       "      <td>51</td>\n",
       "      <td>233</td>\n",
       "      <td>11883</td>\n",
       "      <td>3208.41</td>\n",
       "      <td>Outlet</td>\n",
       "    </tr>\n",
       "    <tr>\n",
       "      <th>2</th>\n",
       "      <td>Kohl's</td>\n",
       "      <td>1189833</td>\n",
       "      <td>1/1/21</td>\n",
       "      <td>Midwest</td>\n",
       "      <td>Montana</td>\n",
       "      <td>Billings</td>\n",
       "      <td>Men's Apparel</td>\n",
       "      <td>50</td>\n",
       "      <td>275</td>\n",
       "      <td>137500</td>\n",
       "      <td>82500.00</td>\n",
       "      <td>Outlet</td>\n",
       "    </tr>\n",
       "    <tr>\n",
       "      <th>3</th>\n",
       "      <td>Kohl's</td>\n",
       "      <td>1189833</td>\n",
       "      <td>1/1/21</td>\n",
       "      <td>Midwest</td>\n",
       "      <td>Montana</td>\n",
       "      <td>Billings</td>\n",
       "      <td>Men's Apparel</td>\n",
       "      <td>47</td>\n",
       "      <td>77</td>\n",
       "      <td>3619</td>\n",
       "      <td>2714.25</td>\n",
       "      <td>Online</td>\n",
       "    </tr>\n",
       "    <tr>\n",
       "      <th>4</th>\n",
       "      <td>West Gear</td>\n",
       "      <td>1128299</td>\n",
       "      <td>1/1/21</td>\n",
       "      <td>West</td>\n",
       "      <td>California</td>\n",
       "      <td>San Francisco</td>\n",
       "      <td>Men's Athletic Footwear</td>\n",
       "      <td>64</td>\n",
       "      <td>225</td>\n",
       "      <td>14400</td>\n",
       "      <td>5184.00</td>\n",
       "      <td>Online</td>\n",
       "    </tr>\n",
       "  </tbody>\n",
       "</table>\n",
       "</div>"
      ],
      "text/plain": [
       "    retailer  retailer_id invoice_date   region       state           city  \\\n",
       "0  West Gear      1128299       1/1/21     West  California  San Francisco   \n",
       "1  West Gear      1128299       1/1/21     West  California  San Francisco   \n",
       "2     Kohl's      1189833       1/1/21  Midwest     Montana       Billings   \n",
       "3     Kohl's      1189833       1/1/21  Midwest     Montana       Billings   \n",
       "4  West Gear      1128299       1/1/21     West  California  San Francisco   \n",
       "\n",
       "                   product  price_per_unit  units_sold  total_sales  \\\n",
       "0  Men's Athletic Footwear              65         750       487500   \n",
       "1  Men's Athletic Footwear              51         233        11883   \n",
       "2            Men's Apparel              50         275       137500   \n",
       "3            Men's Apparel              47          77         3619   \n",
       "4  Men's Athletic Footwear              64         225        14400   \n",
       "\n",
       "   operating_profit sales_method  \n",
       "0         121875.00       Outlet  \n",
       "1           3208.41       Outlet  \n",
       "2          82500.00       Outlet  \n",
       "3           2714.25       Online  \n",
       "4           5184.00       Online  "
      ]
     },
     "execution_count": 48,
     "metadata": {},
     "output_type": "execute_result"
    }
   ],
   "source": [
    "# Display the 2021 sales DataFrame\n",
    "df1.head()"
   ]
  },
  {
   "cell_type": "markdown",
   "metadata": {},
   "source": [
    "#### Check the data types of each DataFrame"
   ]
  },
  {
   "cell_type": "code",
   "execution_count": 49,
   "metadata": {},
   "outputs": [
    {
     "name": "stdout",
     "output_type": "stream",
     "text": [
      "retailer             object\n",
      "retailer_id           int64\n",
      "invoice_date         object\n",
      "region               object\n",
      "state                object\n",
      "city                 object\n",
      "product              object\n",
      "price_per_unit        int64\n",
      "units_sold            int64\n",
      "total_sales           int64\n",
      "operating_profit    float64\n",
      "sales_method         object\n",
      "dtype: object\n"
     ]
    }
   ],
   "source": [
    "# Check the 2020 sales data types.\n",
    "print(df.dtypes)"
   ]
  },
  {
   "cell_type": "code",
   "execution_count": 50,
   "metadata": {},
   "outputs": [
    {
     "name": "stdout",
     "output_type": "stream",
     "text": [
      "retailer             object\n",
      "retailer_id           int64\n",
      "invoice_date         object\n",
      "region               object\n",
      "state                object\n",
      "city                 object\n",
      "product              object\n",
      "price_per_unit        int64\n",
      "units_sold            int64\n",
      "total_sales           int64\n",
      "operating_profit    float64\n",
      "sales_method         object\n",
      "dtype: object\n"
     ]
    }
   ],
   "source": [
    "# Check the 2021 sales data types.\n",
    "print(df1.dtypes)"
   ]
  },
  {
   "cell_type": "markdown",
   "metadata": {},
   "source": [
    "#### Combine the sales data by rows."
   ]
  },
  {
   "cell_type": "code",
   "execution_count": 51,
   "metadata": {},
   "outputs": [
    {
     "data": {
      "text/html": [
       "<div>\n",
       "<style scoped>\n",
       "    .dataframe tbody tr th:only-of-type {\n",
       "        vertical-align: middle;\n",
       "    }\n",
       "\n",
       "    .dataframe tbody tr th {\n",
       "        vertical-align: top;\n",
       "    }\n",
       "\n",
       "    .dataframe thead th {\n",
       "        text-align: right;\n",
       "    }\n",
       "</style>\n",
       "<table border=\"1\" class=\"dataframe\">\n",
       "  <thead>\n",
       "    <tr style=\"text-align: right;\">\n",
       "      <th></th>\n",
       "      <th>retailer</th>\n",
       "      <th>retailer_id</th>\n",
       "      <th>invoice_date</th>\n",
       "      <th>region</th>\n",
       "      <th>state</th>\n",
       "      <th>city</th>\n",
       "      <th>product</th>\n",
       "      <th>price_per_unit</th>\n",
       "      <th>units_sold</th>\n",
       "      <th>total_sales</th>\n",
       "      <th>operating_profit</th>\n",
       "      <th>sales_method</th>\n",
       "    </tr>\n",
       "  </thead>\n",
       "  <tbody>\n",
       "    <tr>\n",
       "      <th>0</th>\n",
       "      <td>Foot Locker</td>\n",
       "      <td>1185732</td>\n",
       "      <td>1/1/20</td>\n",
       "      <td>Northeast</td>\n",
       "      <td>New York</td>\n",
       "      <td>New York</td>\n",
       "      <td>Men's Street Footwear</td>\n",
       "      <td>50</td>\n",
       "      <td>1200</td>\n",
       "      <td>600000</td>\n",
       "      <td>300000.00</td>\n",
       "      <td>In-store</td>\n",
       "    </tr>\n",
       "    <tr>\n",
       "      <th>1</th>\n",
       "      <td>Foot Locker</td>\n",
       "      <td>1185732</td>\n",
       "      <td>1/1/20</td>\n",
       "      <td>Northeast</td>\n",
       "      <td>Pennsylvania</td>\n",
       "      <td>Philadelphia</td>\n",
       "      <td>Women's Apparel</td>\n",
       "      <td>68</td>\n",
       "      <td>83</td>\n",
       "      <td>5644</td>\n",
       "      <td>2426.92</td>\n",
       "      <td>Online</td>\n",
       "    </tr>\n",
       "    <tr>\n",
       "      <th>2</th>\n",
       "      <td>Foot Locker</td>\n",
       "      <td>1185732</td>\n",
       "      <td>1/1/20</td>\n",
       "      <td>Northeast</td>\n",
       "      <td>Pennsylvania</td>\n",
       "      <td>Philadelphia</td>\n",
       "      <td>Women's Apparel</td>\n",
       "      <td>75</td>\n",
       "      <td>275</td>\n",
       "      <td>206250</td>\n",
       "      <td>61875.00</td>\n",
       "      <td>Outlet</td>\n",
       "    </tr>\n",
       "    <tr>\n",
       "      <th>3</th>\n",
       "      <td>Foot Locker</td>\n",
       "      <td>1185732</td>\n",
       "      <td>1/1/20</td>\n",
       "      <td>Northeast</td>\n",
       "      <td>New York</td>\n",
       "      <td>New York</td>\n",
       "      <td>Men's Street Footwear</td>\n",
       "      <td>34</td>\n",
       "      <td>384</td>\n",
       "      <td>13056</td>\n",
       "      <td>6789.12</td>\n",
       "      <td>Outlet</td>\n",
       "    </tr>\n",
       "    <tr>\n",
       "      <th>4</th>\n",
       "      <td>Foot Locker</td>\n",
       "      <td>1185732</td>\n",
       "      <td>1/1/20</td>\n",
       "      <td>Northeast</td>\n",
       "      <td>Pennsylvania</td>\n",
       "      <td>Philadelphia</td>\n",
       "      <td>Women's Apparel</td>\n",
       "      <td>53</td>\n",
       "      <td>83</td>\n",
       "      <td>4399</td>\n",
       "      <td>1407.68</td>\n",
       "      <td>Outlet</td>\n",
       "    </tr>\n",
       "    <tr>\n",
       "      <th>...</th>\n",
       "      <td>...</td>\n",
       "      <td>...</td>\n",
       "      <td>...</td>\n",
       "      <td>...</td>\n",
       "      <td>...</td>\n",
       "      <td>...</td>\n",
       "      <td>...</td>\n",
       "      <td>...</td>\n",
       "      <td>...</td>\n",
       "      <td>...</td>\n",
       "      <td>...</td>\n",
       "      <td>...</td>\n",
       "    </tr>\n",
       "    <tr>\n",
       "      <th>9638</th>\n",
       "      <td>Foot Locker</td>\n",
       "      <td>1185732</td>\n",
       "      <td>12/31/21</td>\n",
       "      <td>Northeast</td>\n",
       "      <td>Pennsylvania</td>\n",
       "      <td>Philadelphia</td>\n",
       "      <td>Men's Apparel</td>\n",
       "      <td>63</td>\n",
       "      <td>47</td>\n",
       "      <td>2961</td>\n",
       "      <td>1362.06</td>\n",
       "      <td>Online</td>\n",
       "    </tr>\n",
       "    <tr>\n",
       "      <th>9639</th>\n",
       "      <td>Foot Locker</td>\n",
       "      <td>1185732</td>\n",
       "      <td>12/31/21</td>\n",
       "      <td>Northeast</td>\n",
       "      <td>Pennsylvania</td>\n",
       "      <td>Philadelphia</td>\n",
       "      <td>Men's Apparel</td>\n",
       "      <td>46</td>\n",
       "      <td>56</td>\n",
       "      <td>2576</td>\n",
       "      <td>1004.64</td>\n",
       "      <td>Outlet</td>\n",
       "    </tr>\n",
       "    <tr>\n",
       "      <th>9640</th>\n",
       "      <td>Amazon</td>\n",
       "      <td>1185732</td>\n",
       "      <td>12/31/21</td>\n",
       "      <td>Northeast</td>\n",
       "      <td>Maine</td>\n",
       "      <td>Portland</td>\n",
       "      <td>Men's Apparel</td>\n",
       "      <td>52</td>\n",
       "      <td>36</td>\n",
       "      <td>1872</td>\n",
       "      <td>692.64</td>\n",
       "      <td>Online</td>\n",
       "    </tr>\n",
       "    <tr>\n",
       "      <th>9641</th>\n",
       "      <td>Amazon</td>\n",
       "      <td>1185732</td>\n",
       "      <td>12/31/21</td>\n",
       "      <td>Northeast</td>\n",
       "      <td>Maine</td>\n",
       "      <td>Portland</td>\n",
       "      <td>Men's Apparel</td>\n",
       "      <td>55</td>\n",
       "      <td>125</td>\n",
       "      <td>68750</td>\n",
       "      <td>17187.50</td>\n",
       "      <td>Outlet</td>\n",
       "    </tr>\n",
       "    <tr>\n",
       "      <th>9642</th>\n",
       "      <td>Foot Locker</td>\n",
       "      <td>1185732</td>\n",
       "      <td>12/31/21</td>\n",
       "      <td>Northeast</td>\n",
       "      <td>Pennsylvania</td>\n",
       "      <td>Philadelphia</td>\n",
       "      <td>Men's Apparel</td>\n",
       "      <td>70</td>\n",
       "      <td>175</td>\n",
       "      <td>122500</td>\n",
       "      <td>42875.00</td>\n",
       "      <td>Outlet</td>\n",
       "    </tr>\n",
       "  </tbody>\n",
       "</table>\n",
       "<p>9643 rows × 12 columns</p>\n",
       "</div>"
      ],
      "text/plain": [
       "         retailer  retailer_id invoice_date     region         state  \\\n",
       "0     Foot Locker      1185732       1/1/20  Northeast      New York   \n",
       "1     Foot Locker      1185732       1/1/20  Northeast  Pennsylvania   \n",
       "2     Foot Locker      1185732       1/1/20  Northeast  Pennsylvania   \n",
       "3     Foot Locker      1185732       1/1/20  Northeast      New York   \n",
       "4     Foot Locker      1185732       1/1/20  Northeast  Pennsylvania   \n",
       "...           ...          ...          ...        ...           ...   \n",
       "9638  Foot Locker      1185732     12/31/21  Northeast  Pennsylvania   \n",
       "9639  Foot Locker      1185732     12/31/21  Northeast  Pennsylvania   \n",
       "9640       Amazon      1185732     12/31/21  Northeast         Maine   \n",
       "9641       Amazon      1185732     12/31/21  Northeast         Maine   \n",
       "9642  Foot Locker      1185732     12/31/21  Northeast  Pennsylvania   \n",
       "\n",
       "              city                product  price_per_unit  units_sold  \\\n",
       "0         New York  Men's Street Footwear              50        1200   \n",
       "1     Philadelphia        Women's Apparel              68          83   \n",
       "2     Philadelphia        Women's Apparel              75         275   \n",
       "3         New York  Men's Street Footwear              34         384   \n",
       "4     Philadelphia        Women's Apparel              53          83   \n",
       "...            ...                    ...             ...         ...   \n",
       "9638  Philadelphia          Men's Apparel              63          47   \n",
       "9639  Philadelphia          Men's Apparel              46          56   \n",
       "9640      Portland          Men's Apparel              52          36   \n",
       "9641      Portland          Men's Apparel              55         125   \n",
       "9642  Philadelphia          Men's Apparel              70         175   \n",
       "\n",
       "      total_sales  operating_profit sales_method  \n",
       "0          600000         300000.00     In-store  \n",
       "1            5644           2426.92       Online  \n",
       "2          206250          61875.00       Outlet  \n",
       "3           13056           6789.12       Outlet  \n",
       "4            4399           1407.68       Outlet  \n",
       "...           ...               ...          ...  \n",
       "9638         2961           1362.06       Online  \n",
       "9639         2576           1004.64       Outlet  \n",
       "9640         1872            692.64       Online  \n",
       "9641        68750          17187.50       Outlet  \n",
       "9642       122500          42875.00       Outlet  \n",
       "\n",
       "[9643 rows x 12 columns]"
      ]
     },
     "metadata": {},
     "output_type": "display_data"
    }
   ],
   "source": [
    "# Combine the 2020 and 2021 sales DataFrames on the rows and reset the index.\n",
    "combined_df = pd.concat([df, df1], ignore_index=True)\n",
    "display(combined_df)\n"
   ]
  },
  {
   "cell_type": "code",
   "execution_count": 52,
   "metadata": {},
   "outputs": [
    {
     "data": {
      "text/plain": [
       "False"
      ]
     },
     "execution_count": 52,
     "metadata": {},
     "output_type": "execute_result"
    }
   ],
   "source": [
    "# Check if any values are null.\n",
    "combined_df.isnull().values.any()\n"
   ]
  },
  {
   "cell_type": "code",
   "execution_count": 53,
   "metadata": {},
   "outputs": [
    {
     "name": "stdout",
     "output_type": "stream",
     "text": [
      "retailer             object\n",
      "retailer_id           int64\n",
      "invoice_date         object\n",
      "region               object\n",
      "state                object\n",
      "city                 object\n",
      "product              object\n",
      "price_per_unit        int64\n",
      "units_sold            int64\n",
      "total_sales           int64\n",
      "operating_profit    float64\n",
      "sales_method         object\n",
      "dtype: object\n"
     ]
    }
   ],
   "source": [
    "# Check the data type of each column\n",
    "print(combined_df.dtypes)\n"
   ]
  },
  {
   "cell_type": "code",
   "execution_count": 54,
   "metadata": {},
   "outputs": [
    {
     "name": "stderr",
     "output_type": "stream",
     "text": [
      "C:\\Users\\jakem\\AppData\\Local\\Temp\\ipykernel_21712\\1427147084.py:3: UserWarning: Could not infer format, so each element will be parsed individually, falling back to `dateutil`. To ensure parsing is consistent and as-expected, please specify a format.\n",
      "  combined_df[\"invoice_date\"] = pd.to_datetime(combined_df[\"invoice_date\"])\n"
     ]
    }
   ],
   "source": [
    "#change datatype of invoice_date to datetime\n",
    "\n",
    "combined_df[\"invoice_date\"] = pd.to_datetime(combined_df[\"invoice_date\"])"
   ]
  },
  {
   "cell_type": "code",
   "execution_count": 55,
   "metadata": {},
   "outputs": [
    {
     "name": "stdout",
     "output_type": "stream",
     "text": [
      "datetime64[ns]\n"
     ]
    }
   ],
   "source": [
    "# Confirm that the \"invoice_date\" data type has been changed.\n",
    "print(combined_df[\"invoice_date\"].dtype)"
   ]
  },
  {
   "cell_type": "markdown",
   "metadata": {},
   "source": [
    "### 2. Determine which Region Sold the Most Products"
   ]
  },
  {
   "cell_type": "markdown",
   "metadata": {},
   "source": [
    "#### Using `groupby`"
   ]
  },
  {
   "cell_type": "code",
   "execution_count": 56,
   "metadata": {},
   "outputs": [
    {
     "name": "stdout",
     "output_type": "stream",
     "text": [
      "region\n",
      "West         2445\n",
      "Northeast    2376\n",
      "Midwest      1870\n",
      "South        1728\n",
      "Southeast    1224\n",
      "Name: Total_Products_Sold, dtype: int64\n"
     ]
    }
   ],
   "source": [
    "# Show the number products sold for region, state, and city.    \n",
    "region = combined_df.groupby(\"region\")[\"product\"].count()\n",
    "\n",
    "# Rename the sum to \"Total_Products_Sold\".\n",
    "region = combined_df.groupby(\"region\")[\"product\"].count().rename(\"Total_Products_Sold\")\n",
    "\n",
    "# Show the top 5 results.\n",
    "top_5_regions = region.nlargest(5)\n",
    "print(top_5_regions)"
   ]
  },
  {
   "cell_type": "markdown",
   "metadata": {},
   "source": [
    "#### Using `pivot_table`"
   ]
  },
  {
   "cell_type": "code",
   "execution_count": 57,
   "metadata": {},
   "outputs": [
    {
     "name": "stdout",
     "output_type": "stream",
     "text": [
      "                                      Total_Products_Sold\n",
      "region    state         city                             \n",
      "Northeast Connecticut   Hartford                      216\n",
      "          Massachusetts Boston                        216\n",
      "          New Hampshire Manchester                    216\n",
      "          New York      New York                      216\n",
      "          Pennsylvania  Philadelphia                  216\n"
     ]
    }
   ],
   "source": [
    "#Using `pivot_table`Show the number products sold for region, state, and city.\n",
    "pivot_table = combined_df.pivot_table(index=['region', 'state', 'city'], values='units_sold', aggfunc='count')\n",
    "\n",
    "# Rename the \"units_sold\" column to \"Total_Products_Sold\"\n",
    "pivot_table.rename(columns={'units_sold': 'Total_Products_Sold'}, inplace=True)\n",
    "#\n",
    "# Print top 5\n",
    "top_5_results = pivot_table.nlargest(5, 'Total_Products_Sold')\n",
    "print(top_5_results)\n",
    "\n"
   ]
  },
  {
   "cell_type": "markdown",
   "metadata": {},
   "source": [
    "### 3. Determine which Region had the Most Sales"
   ]
  },
  {
   "cell_type": "markdown",
   "metadata": {},
   "source": [
    "#### Using `groupby`"
   ]
  },
  {
   "cell_type": "code",
   "execution_count": 58,
   "metadata": {},
   "outputs": [
    {
     "name": "stdout",
     "output_type": "stream",
     "text": [
      "       region           state           city  total_sales\n",
      "21  Northeast        New York       New York     39801235\n",
      "44       West      California  San Francisco     33973228\n",
      "34  Southeast         Florida          Miami     31600863\n",
      "39  Southeast  South Carolina     Charleston     29285637\n",
      "35  Southeast         Florida        Orlando     27682851\n"
     ]
    }
   ],
   "source": [
    "total_sales = combined_df.groupby(['region', 'state', 'city'])['total_sales'].sum().reset_index()\n",
    "top_5_totals = total_sales.nlargest(5, 'total_sales')\n",
    "print(top_5_totals)\n"
   ]
  },
  {
   "cell_type": "markdown",
   "metadata": {},
   "source": [
    "#### Using `pivot_table`"
   ]
  },
  {
   "cell_type": "code",
   "execution_count": 59,
   "metadata": {},
   "outputs": [
    {
     "name": "stdout",
     "output_type": "stream",
     "text": [
      "       region           state           city  Total Sales\n",
      "21  Northeast        New York       New York     39801235\n",
      "44       West      California  San Francisco     33973228\n",
      "34  Southeast         Florida          Miami     31600863\n",
      "39  Southeast  South Carolina     Charleston     29285637\n",
      "35  Southeast         Florida        Orlando     27682851\n"
     ]
    }
   ],
   "source": [
    "# Show the total sales for the products sold for each region, state, and city.\n",
    "\n",
    "total_sales_pt = combined_df.pivot_table(values='total_sales', index=['region', 'state', 'city'], aggfunc='sum').reset_index()\n",
    "\n",
    "# Optional: Rename the \"total_sales\" column to \"Total Sales\"\n",
    "total_sales_pt.rename(columns={'total_sales': 'Total Sales'}, inplace=True)\n",
    "\n",
    "# Show the top 5 results.\n",
    "top_5_totals_pt = total_sales_pt.nlargest(5, 'Total Sales') \n",
    "print(top_5_totals_pt)"
   ]
  },
  {
   "cell_type": "markdown",
   "metadata": {},
   "source": [
    "### 4. Determine which Retailer had the Most Sales"
   ]
  },
  {
   "cell_type": "markdown",
   "metadata": {},
   "source": [
    "#### Using `groupby`"
   ]
  },
  {
   "cell_type": "code",
   "execution_count": 60,
   "metadata": {},
   "outputs": [
    {
     "name": "stdout",
     "output_type": "stream",
     "text": [
      "        retailer     region           state           city  Total Sales\n",
      "103    West Gear       West      California  San Francisco     32794405\n",
      "50        Kohl's       West      California    Los Angeles     25127160\n",
      "22   Foot Locker  Northeast        New York       New York     25008568\n",
      "109    West Gear       West      Washington        Seattle     24862675\n",
      "33   Foot Locker  Southeast  South Carolina     Charleston     24822280\n"
     ]
    }
   ],
   "source": [
    "# Show the total sales for the products sold for each retailer, region, state, and city.\n",
    "top_retailers = combined_df.groupby(['retailer', 'region', 'state', 'city'])['total_sales'].sum().reset_index()\n",
    "\n",
    "# Rename the \"total_sales\" column to \"Total Sales\"\n",
    "top_retailers.rename(columns={'total_sales': 'Total Sales'}, inplace=True)\n",
    "\n",
    "# Show the top 5 results by 'Total Sales'\n",
    "top_5_retailers = top_retailers.nlargest(5, 'Total Sales')\n",
    "\n",
    "print(top_5_retailers)"
   ]
  },
  {
   "cell_type": "markdown",
   "metadata": {},
   "source": [
    "#### Using `pivot_table`"
   ]
  },
  {
   "cell_type": "code",
   "execution_count": 61,
   "metadata": {},
   "outputs": [
    {
     "name": "stdout",
     "output_type": "stream",
     "text": [
      "       region           state           city  Total Sales\n",
      "21  Northeast        New York       New York     39801235\n",
      "44       West      California  San Francisco     33973228\n",
      "34  Southeast         Florida          Miami     31600863\n",
      "39  Southeast  South Carolina     Charleston     29285637\n",
      "35  Southeast         Florida        Orlando     27682851\n"
     ]
    }
   ],
   "source": [
    "# Show the total sales for the products sold for each region, state, and city.\n",
    "\n",
    "top_retailers_pt = combined_df.pivot_table(values='total_sales', index=['region', 'state', 'city'], aggfunc='sum').reset_index()\n",
    "\n",
    "\n",
    "# Optional: Rename the \"total_sales\" column to \"Total Sales\"\n",
    "top_retailers_pt.rename(columns={'total_sales': 'Total Sales'}, inplace=True)\n",
    "\n",
    "# Show the top 5 results.\n",
    "top_5_retailers = top_retailers_pt.nlargest(5, 'Total Sales')\n",
    "print(top_5_retailers)\n"
   ]
  },
  {
   "cell_type": "markdown",
   "metadata": {},
   "source": [
    "### 5. Determine which Retailer Sold the Most Women's Athletic Footwear"
   ]
  },
  {
   "cell_type": "code",
   "execution_count": 62,
   "metadata": {},
   "outputs": [
    {
     "data": {
      "text/html": [
       "<div>\n",
       "<style scoped>\n",
       "    .dataframe tbody tr th:only-of-type {\n",
       "        vertical-align: middle;\n",
       "    }\n",
       "\n",
       "    .dataframe tbody tr th {\n",
       "        vertical-align: top;\n",
       "    }\n",
       "\n",
       "    .dataframe thead th {\n",
       "        text-align: right;\n",
       "    }\n",
       "</style>\n",
       "<table border=\"1\" class=\"dataframe\">\n",
       "  <thead>\n",
       "    <tr style=\"text-align: right;\">\n",
       "      <th></th>\n",
       "      <th>retailer</th>\n",
       "      <th>retailer_id</th>\n",
       "      <th>invoice_date</th>\n",
       "      <th>region</th>\n",
       "      <th>state</th>\n",
       "      <th>city</th>\n",
       "      <th>product</th>\n",
       "      <th>price_per_unit</th>\n",
       "      <th>units_sold</th>\n",
       "      <th>total_sales</th>\n",
       "      <th>operating_profit</th>\n",
       "      <th>sales_method</th>\n",
       "    </tr>\n",
       "  </thead>\n",
       "  <tbody>\n",
       "    <tr>\n",
       "      <th>21</th>\n",
       "      <td>Foot Locker</td>\n",
       "      <td>1185732</td>\n",
       "      <td>2020-01-04</td>\n",
       "      <td>Northeast</td>\n",
       "      <td>New York</td>\n",
       "      <td>New York</td>\n",
       "      <td>Women's Athletic Footwear</td>\n",
       "      <td>36</td>\n",
       "      <td>281</td>\n",
       "      <td>10116</td>\n",
       "      <td>3742.92</td>\n",
       "      <td>Outlet</td>\n",
       "    </tr>\n",
       "    <tr>\n",
       "      <th>22</th>\n",
       "      <td>Foot Locker</td>\n",
       "      <td>1185732</td>\n",
       "      <td>2020-01-04</td>\n",
       "      <td>Northeast</td>\n",
       "      <td>New York</td>\n",
       "      <td>New York</td>\n",
       "      <td>Women's Athletic Footwear</td>\n",
       "      <td>41</td>\n",
       "      <td>247</td>\n",
       "      <td>10127</td>\n",
       "      <td>4658.42</td>\n",
       "      <td>Online</td>\n",
       "    </tr>\n",
       "    <tr>\n",
       "      <th>23</th>\n",
       "      <td>Foot Locker</td>\n",
       "      <td>1185732</td>\n",
       "      <td>2020-01-04</td>\n",
       "      <td>Northeast</td>\n",
       "      <td>New York</td>\n",
       "      <td>New York</td>\n",
       "      <td>Women's Athletic Footwear</td>\n",
       "      <td>45</td>\n",
       "      <td>850</td>\n",
       "      <td>382500</td>\n",
       "      <td>133875.00</td>\n",
       "      <td>In-store</td>\n",
       "    </tr>\n",
       "    <tr>\n",
       "      <th>26</th>\n",
       "      <td>West Gear</td>\n",
       "      <td>1128299</td>\n",
       "      <td>2020-01-05</td>\n",
       "      <td>Northeast</td>\n",
       "      <td>Pennsylvania</td>\n",
       "      <td>Philadelphia</td>\n",
       "      <td>Women's Athletic Footwear</td>\n",
       "      <td>45</td>\n",
       "      <td>300</td>\n",
       "      <td>135000</td>\n",
       "      <td>47250.00</td>\n",
       "      <td>Outlet</td>\n",
       "    </tr>\n",
       "    <tr>\n",
       "      <th>27</th>\n",
       "      <td>West Gear</td>\n",
       "      <td>1128299</td>\n",
       "      <td>2020-01-05</td>\n",
       "      <td>Northeast</td>\n",
       "      <td>Pennsylvania</td>\n",
       "      <td>Philadelphia</td>\n",
       "      <td>Women's Athletic Footwear</td>\n",
       "      <td>34</td>\n",
       "      <td>90</td>\n",
       "      <td>3060</td>\n",
       "      <td>1254.60</td>\n",
       "      <td>Outlet</td>\n",
       "    </tr>\n",
       "  </tbody>\n",
       "</table>\n",
       "</div>"
      ],
      "text/plain": [
       "       retailer  retailer_id invoice_date     region         state  \\\n",
       "21  Foot Locker      1185732   2020-01-04  Northeast      New York   \n",
       "22  Foot Locker      1185732   2020-01-04  Northeast      New York   \n",
       "23  Foot Locker      1185732   2020-01-04  Northeast      New York   \n",
       "26    West Gear      1128299   2020-01-05  Northeast  Pennsylvania   \n",
       "27    West Gear      1128299   2020-01-05  Northeast  Pennsylvania   \n",
       "\n",
       "            city                    product  price_per_unit  units_sold  \\\n",
       "21      New York  Women's Athletic Footwear              36         281   \n",
       "22      New York  Women's Athletic Footwear              41         247   \n",
       "23      New York  Women's Athletic Footwear              45         850   \n",
       "26  Philadelphia  Women's Athletic Footwear              45         300   \n",
       "27  Philadelphia  Women's Athletic Footwear              34          90   \n",
       "\n",
       "    total_sales  operating_profit sales_method  \n",
       "21        10116           3742.92       Outlet  \n",
       "22        10127           4658.42       Online  \n",
       "23       382500         133875.00     In-store  \n",
       "26       135000          47250.00       Outlet  \n",
       "27         3060           1254.60       Outlet  "
      ]
     },
     "execution_count": 62,
     "metadata": {},
     "output_type": "execute_result"
    }
   ],
   "source": [
    "# Filter the sales data to get the women's athletic footwear sales data.\n",
    "women_athletic_footwear = combined_df[combined_df['product'] == \"Women's Athletic Footwear\"]\n",
    "women_athletic_footwear.head()"
   ]
  },
  {
   "cell_type": "markdown",
   "metadata": {},
   "source": [
    "#### Using `groupby`"
   ]
  },
  {
   "cell_type": "code",
   "execution_count": 63,
   "metadata": {},
   "outputs": [
    {
     "name": "stdout",
     "output_type": "stream",
     "text": [
      "          retailer     region           state           city  \\\n",
      "101      West Gear       West      California  San Francisco   \n",
      "22     Foot Locker  Northeast        New York       New York   \n",
      "49          Kohl's       West      California    Los Angeles   \n",
      "33     Foot Locker  Southeast  South Carolina     Charleston   \n",
      "68   Sports Direct      South           Texas         Dallas   \n",
      "\n",
      "     Womens_Footwear_Units_Sold  \n",
      "101                       12107  \n",
      "22                        10996  \n",
      "49                        10826  \n",
      "33                         8814  \n",
      "68                         8790  \n"
     ]
    }
   ],
   "source": [
    "# Show the total number of women's athletic footwear sold for each retailer, region, state, and city.\n",
    "women_athletic_footwear = combined_df[combined_df['product'] == \"Women's Athletic Footwear\"]\n",
    "total_sold = women_athletic_footwear.groupby(['retailer', 'region', 'state', 'city'])['units_sold'].sum().reset_index()\n",
    "# Rename the \"units_sold\" column to \"Womens_Footwear_Units_Sold\"\n",
    "total_sold.rename(columns={'units_sold': 'Womens_Footwear_Units_Sold'}, inplace=True)\n",
    "# Display the top 5 locations with the highest sales\n",
    "top_sales_locations = total_sold.nlargest(5, 'Womens_Footwear_Units_Sold')\n",
    "print(top_sales_locations)\n",
    "\n"
   ]
  },
  {
   "cell_type": "markdown",
   "metadata": {},
   "source": [
    "#### Using `pivot_table`"
   ]
  },
  {
   "cell_type": "code",
   "execution_count": 64,
   "metadata": {},
   "outputs": [
    {
     "name": "stdout",
     "output_type": "stream",
     "text": [
      "                                                      Womens_Footwear_Units_Sold\n",
      "retailer      region    state          city                                     \n",
      "West Gear     West      California     San Francisco                       12107\n",
      "Foot Locker   Northeast New York       New York                            10996\n",
      "Kohl's        West      California     Los Angeles                         10826\n",
      "Foot Locker   Southeast South Carolina Charleston                           8814\n",
      "Sports Direct South     Texas          Dallas                               8790\n"
     ]
    }
   ],
   "source": [
    "# Show the total number of women's athletic footwear sold for each retailer, region, state, and city.\n",
    "pivot_table = women_athletic_footwear.pivot_table(values='units_sold', index=['retailer', 'region', 'state', 'city'], aggfunc='sum')\n",
    "\n",
    "# Rename the \"units_sold\" column to \"Womens_Footwear_Units_Sold\"\n",
    "pivot_table.columns = ['Womens_Footwear_Units_Sold']\n",
    "\n",
    "# Show the top 5 results\n",
    "top_5_results = pivot_table.nlargest(5, 'Womens_Footwear_Units_Sold')\n",
    "print(top_5_results)\n"
   ]
  },
  {
   "cell_type": "markdown",
   "metadata": {},
   "source": [
    "### 6. Determine the Day with the Most Women's Athletic Footwear Sales"
   ]
  },
  {
   "cell_type": "code",
   "execution_count": 65,
   "metadata": {},
   "outputs": [
    {
     "name": "stdout",
     "output_type": "stream",
     "text": [
      "              Total Sales\n",
      "invoice_date             \n",
      "1/1/20             845141\n",
      "1/10/20            200469\n",
      "1/11/20            129556\n",
      "1/12/20            104982\n",
      "1/13/20            189096\n",
      "...                   ...\n",
      "9/5/20             402432\n",
      "9/6/20             399393\n",
      "9/7/20             882296\n",
      "9/8/20             726106\n",
      "9/9/20             814562\n",
      "\n",
      "[358 rows x 1 columns]\n"
     ]
    }
   ],
   "source": [
    "# Create a pivot table with the 'invoice_date' column is the index, and the \"total_sales\" as the values.\n",
    "pivot_table = df.pivot_table(values='total_sales', index='invoice_date', aggfunc='sum')\n",
    "\n",
    "# Optional: Rename the \"total_sales\" column to \"Total Sales\"\n",
    "pivot_table.columns = ['Total Sales']\n",
    "\n",
    "# Show the table\n",
    "print(pivot_table)"
   ]
  },
  {
   "cell_type": "code",
   "execution_count": 66,
   "metadata": {},
   "outputs": [
    {
     "name": "stderr",
     "output_type": "stream",
     "text": [
      "C:\\Users\\jakem\\AppData\\Local\\Temp\\ipykernel_21712\\2638534997.py:1: UserWarning: Could not infer format, so each element will be parsed individually, falling back to `dateutil`. To ensure parsing is consistent and as-expected, please specify a format.\n",
      "  pivot_table.index = pd.to_datetime(pivot_table.index)\n"
     ]
    },
    {
     "data": {
      "text/html": [
       "<div>\n",
       "<style scoped>\n",
       "    .dataframe tbody tr th:only-of-type {\n",
       "        vertical-align: middle;\n",
       "    }\n",
       "\n",
       "    .dataframe tbody tr th {\n",
       "        vertical-align: top;\n",
       "    }\n",
       "\n",
       "    .dataframe thead th {\n",
       "        text-align: right;\n",
       "    }\n",
       "</style>\n",
       "<table border=\"1\" class=\"dataframe\">\n",
       "  <thead>\n",
       "    <tr style=\"text-align: right;\">\n",
       "      <th></th>\n",
       "      <th>Total Sales</th>\n",
       "    </tr>\n",
       "    <tr>\n",
       "      <th>invoice_date</th>\n",
       "      <th></th>\n",
       "    </tr>\n",
       "  </thead>\n",
       "  <tbody>\n",
       "    <tr>\n",
       "      <th>2020-01-01</th>\n",
       "      <td>845141</td>\n",
       "    </tr>\n",
       "    <tr>\n",
       "      <th>2020-01-02</th>\n",
       "      <td>689410</td>\n",
       "    </tr>\n",
       "    <tr>\n",
       "      <th>2020-01-03</th>\n",
       "      <td>632573</td>\n",
       "    </tr>\n",
       "    <tr>\n",
       "      <th>2020-01-04</th>\n",
       "      <td>615080</td>\n",
       "    </tr>\n",
       "    <tr>\n",
       "      <th>2020-01-05</th>\n",
       "      <td>707829</td>\n",
       "    </tr>\n",
       "  </tbody>\n",
       "</table>\n",
       "</div>"
      ],
      "text/plain": [
       "              Total Sales\n",
       "invoice_date             \n",
       "2020-01-01         845141\n",
       "2020-01-02         689410\n",
       "2020-01-03         632573\n",
       "2020-01-04         615080\n",
       "2020-01-05         707829"
      ]
     },
     "execution_count": 66,
     "metadata": {},
     "output_type": "execute_result"
    }
   ],
   "source": [
    "pivot_table.index = pd.to_datetime(pivot_table.index)\n",
    "daily_sales = pivot_table.resample('D').sum()\n",
    "daily_sales.head()\n",
    "\n",
    "\n"
   ]
  },
  {
   "cell_type": "markdown",
   "metadata": {},
   "source": [
    "### 7.  Determine the Week with the Most Women's Athletic Footwear Sales"
   ]
  },
  {
   "cell_type": "code",
   "execution_count": 67,
   "metadata": {},
   "outputs": [
    {
     "data": {
      "text/html": [
       "<div>\n",
       "<style scoped>\n",
       "    .dataframe tbody tr th:only-of-type {\n",
       "        vertical-align: middle;\n",
       "    }\n",
       "\n",
       "    .dataframe tbody tr th {\n",
       "        vertical-align: top;\n",
       "    }\n",
       "\n",
       "    .dataframe thead th {\n",
       "        text-align: right;\n",
       "    }\n",
       "</style>\n",
       "<table border=\"1\" class=\"dataframe\">\n",
       "  <thead>\n",
       "    <tr style=\"text-align: right;\">\n",
       "      <th></th>\n",
       "      <th>Total Sales</th>\n",
       "    </tr>\n",
       "    <tr>\n",
       "      <th>invoice_date</th>\n",
       "      <th></th>\n",
       "    </tr>\n",
       "  </thead>\n",
       "  <tbody>\n",
       "    <tr>\n",
       "      <th>2020-04-26</th>\n",
       "      <td>13165823</td>\n",
       "    </tr>\n",
       "    <tr>\n",
       "      <th>2020-05-03</th>\n",
       "      <td>7349542</td>\n",
       "    </tr>\n",
       "    <tr>\n",
       "      <th>2020-03-15</th>\n",
       "      <td>6719747</td>\n",
       "    </tr>\n",
       "    <tr>\n",
       "      <th>2020-09-13</th>\n",
       "      <td>6509653</td>\n",
       "    </tr>\n",
       "    <tr>\n",
       "      <th>2020-02-09</th>\n",
       "      <td>6234951</td>\n",
       "    </tr>\n",
       "  </tbody>\n",
       "</table>\n",
       "</div>"
      ],
      "text/plain": [
       "              Total Sales\n",
       "invoice_date             \n",
       "2020-04-26       13165823\n",
       "2020-05-03        7349542\n",
       "2020-03-15        6719747\n",
       "2020-09-13        6509653\n",
       "2020-02-09        6234951"
      ]
     },
     "execution_count": 67,
     "metadata": {},
     "output_type": "execute_result"
    }
   ],
   "source": [
    "# Resample the pivot table into weekly bins, and get the total sales for each week.\n",
    "weekly_sales = pivot_table.resample('W').sum()\n",
    "\n",
    "# Sort the resampled pivot table in descending order on \"Total Sales\".\n",
    "sorted_weekly_sales = weekly_sales.sort_values(by='Total Sales', ascending=False)\n",
    "sorted_weekly_sales.head(5)"
   ]
  },
  {
   "cell_type": "code",
   "execution_count": null,
   "metadata": {},
   "outputs": [],
   "source": []
  }
 ],
 "metadata": {
  "kernelspec": {
   "display_name": "Python 3 (ipykernel)",
   "language": "python",
   "name": "python3"
  },
  "language_info": {
   "codemirror_mode": {
    "name": "ipython",
    "version": 3
   },
   "file_extension": ".py",
   "mimetype": "text/x-python",
   "name": "python",
   "nbconvert_exporter": "python",
   "pygments_lexer": "ipython3",
   "version": "3.12.4"
  }
 },
 "nbformat": 4,
 "nbformat_minor": 4
}
